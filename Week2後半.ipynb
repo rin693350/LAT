{
 "cells": [
  {
   "cell_type": "markdown",
   "id": "158176fd",
   "metadata": {},
   "source": [
    "自己試讀CSV檔並合併"
   ]
  },
  {
   "cell_type": "code",
   "execution_count": 17,
   "id": "ee1ff2d6",
   "metadata": {
    "scrolled": true
   },
   "outputs": [
    {
     "data": {
      "text/html": [
       "<div>\n",
       "<style scoped>\n",
       "    .dataframe tbody tr th:only-of-type {\n",
       "        vertical-align: middle;\n",
       "    }\n",
       "\n",
       "    .dataframe tbody tr th {\n",
       "        vertical-align: top;\n",
       "    }\n",
       "\n",
       "    .dataframe thead th {\n",
       "        text-align: right;\n",
       "    }\n",
       "</style>\n",
       "<table border=\"1\" class=\"dataframe\">\n",
       "  <thead>\n",
       "    <tr style=\"text-align: right;\">\n",
       "      <th></th>\n",
       "      <th>執行日期</th>\n",
       "      <th>科目名稱</th>\n",
       "      <th>摘要</th>\n",
       "      <th>受款單位</th>\n",
       "      <th>金額</th>\n",
       "    </tr>\n",
       "  </thead>\n",
       "  <tbody>\n",
       "    <tr>\n",
       "      <th>0</th>\n",
       "      <td>1020104.0</td>\n",
       "      <td>國民及學前教育行政及督導</td>\n",
       "      <td>新北市政府教育局承接國私立學校102年1月份所需薪資</td>\n",
       "      <td>新北市政府教育局</td>\n",
       "      <td>162,989,000</td>\n",
       "    </tr>\n",
       "    <tr>\n",
       "      <th>1</th>\n",
       "      <td>1020111.0</td>\n",
       "      <td>國民及學前教育行政及督導</td>\n",
       "      <td>新北市政府教育局承接國私立學校102年1月份經常門所需經費</td>\n",
       "      <td>新北市政府教育局</td>\n",
       "      <td>446,707,000</td>\n",
       "    </tr>\n",
       "    <tr>\n",
       "      <th>2</th>\n",
       "      <td>1020111.0</td>\n",
       "      <td>國民及學前教育行政及督導</td>\n",
       "      <td>新北市政府教育局承接國私立學校102年1月份資本門經費</td>\n",
       "      <td>新北市政府教育局</td>\n",
       "      <td>12,000,000</td>\n",
       "    </tr>\n",
       "    <tr>\n",
       "      <th>3</th>\n",
       "      <td>1020131.0</td>\n",
       "      <td>國民及學前教育行政及督導</td>\n",
       "      <td>補助新北市立泰山高中、新店高中、中和高中和新北高工4校資源班開班經費</td>\n",
       "      <td>新北市政府教育局</td>\n",
       "      <td>550,000</td>\n",
       "    </tr>\n",
       "    <tr>\n",
       "      <th>4</th>\n",
       "      <td>1020131.0</td>\n",
       "      <td>國民及學前教育行政及督導</td>\n",
       "      <td>102年度教育部補助直轄市縣（市）政府增置國小教師員額實施計畫第一期經費</td>\n",
       "      <td>高雄市政府教育局</td>\n",
       "      <td>62,833,000</td>\n",
       "    </tr>\n",
       "  </tbody>\n",
       "</table>\n",
       "</div>"
      ],
      "text/plain": [
       "        執行日期          科目名稱                                    摘要      受款單位  \\\n",
       "0  1020104.0  國民及學前教育行政及督導            新北市政府教育局承接國私立學校102年1月份所需薪資  新北市政府教育局   \n",
       "1  1020111.0  國民及學前教育行政及督導         新北市政府教育局承接國私立學校102年1月份經常門所需經費  新北市政府教育局   \n",
       "2  1020111.0  國民及學前教育行政及督導           新北市政府教育局承接國私立學校102年1月份資本門經費  新北市政府教育局   \n",
       "3  1020131.0  國民及學前教育行政及督導    補助新北市立泰山高中、新店高中、中和高中和新北高工4校資源班開班經費  新北市政府教育局   \n",
       "4  1020131.0  國民及學前教育行政及督導  102年度教育部補助直轄市縣（市）政府增置國小教師員額實施計畫第一期經費  高雄市政府教育局   \n",
       "\n",
       "           金額   \n",
       "0  162,989,000  \n",
       "1  446,707,000  \n",
       "2   12,000,000  \n",
       "3      550,000  \n",
       "4   62,833,000  "
      ]
     },
     "execution_count": 17,
     "metadata": {},
     "output_type": "execute_result"
    }
   ],
   "source": [
    "import pandas as pd\n",
    "\n",
    "df = pd.read_csv('教育部國民及學前教育署102年度補助明細表.csv')\n",
    "\n",
    "df.head()\n"
   ]
  },
  {
   "cell_type": "markdown",
   "id": "08d74eb9",
   "metadata": {},
   "source": [
    "想找補助的計畫及補助多少金額"
   ]
  },
  {
   "cell_type": "code",
   "execution_count": 19,
   "id": "87d81594",
   "metadata": {
    "scrolled": false
   },
   "outputs": [
    {
     "data": {
      "text/html": [
       "<div>\n",
       "<style scoped>\n",
       "    .dataframe tbody tr th:only-of-type {\n",
       "        vertical-align: middle;\n",
       "    }\n",
       "\n",
       "    .dataframe tbody tr th {\n",
       "        vertical-align: top;\n",
       "    }\n",
       "\n",
       "    .dataframe thead th {\n",
       "        text-align: right;\n",
       "    }\n",
       "</style>\n",
       "<table border=\"1\" class=\"dataframe\">\n",
       "  <thead>\n",
       "    <tr style=\"text-align: right;\">\n",
       "      <th></th>\n",
       "      <th>科目名稱</th>\n",
       "      <th>金額</th>\n",
       "    </tr>\n",
       "  </thead>\n",
       "  <tbody>\n",
       "    <tr>\n",
       "      <th>0</th>\n",
       "      <td>國民及學前教育行政及督導</td>\n",
       "      <td>162,989,000</td>\n",
       "    </tr>\n",
       "    <tr>\n",
       "      <th>1</th>\n",
       "      <td>國民及學前教育行政及督導</td>\n",
       "      <td>446,707,000</td>\n",
       "    </tr>\n",
       "    <tr>\n",
       "      <th>2</th>\n",
       "      <td>國民及學前教育行政及督導</td>\n",
       "      <td>12,000,000</td>\n",
       "    </tr>\n",
       "    <tr>\n",
       "      <th>3</th>\n",
       "      <td>國民及學前教育行政及督導</td>\n",
       "      <td>550,000</td>\n",
       "    </tr>\n",
       "    <tr>\n",
       "      <th>4</th>\n",
       "      <td>國民及學前教育行政及督導</td>\n",
       "      <td>62,833,000</td>\n",
       "    </tr>\n",
       "    <tr>\n",
       "      <th>...</th>\n",
       "      <td>...</td>\n",
       "      <td>...</td>\n",
       "    </tr>\n",
       "    <tr>\n",
       "      <th>11132</th>\n",
       "      <td>國立高級中等學校教學與訓輔輔助</td>\n",
       "      <td>12,426,000</td>\n",
       "    </tr>\n",
       "    <tr>\n",
       "      <th>11133</th>\n",
       "      <td>國立高級中等學校教學與訓輔輔助</td>\n",
       "      <td>13,072,000</td>\n",
       "    </tr>\n",
       "    <tr>\n",
       "      <th>11134</th>\n",
       "      <td>國立高級中等學校教學與訓輔輔助</td>\n",
       "      <td>14,597,000</td>\n",
       "    </tr>\n",
       "    <tr>\n",
       "      <th>11135</th>\n",
       "      <td>國立高級中等學校教學與訓輔輔助</td>\n",
       "      <td>15,305,000</td>\n",
       "    </tr>\n",
       "    <tr>\n",
       "      <th>11136</th>\n",
       "      <td>國立高級中等學校教學與訓輔輔助</td>\n",
       "      <td>18,932,000</td>\n",
       "    </tr>\n",
       "  </tbody>\n",
       "</table>\n",
       "<p>11137 rows × 2 columns</p>\n",
       "</div>"
      ],
      "text/plain": [
       "                  科目名稱          金額 \n",
       "0         國民及學前教育行政及督導  162,989,000\n",
       "1         國民及學前教育行政及督導  446,707,000\n",
       "2         國民及學前教育行政及督導   12,000,000\n",
       "3         國民及學前教育行政及督導      550,000\n",
       "4         國民及學前教育行政及督導   62,833,000\n",
       "...                ...          ...\n",
       "11132  國立高級中等學校教學與訓輔輔助   12,426,000\n",
       "11133  國立高級中等學校教學與訓輔輔助   13,072,000\n",
       "11134  國立高級中等學校教學與訓輔輔助   14,597,000\n",
       "11135  國立高級中等學校教學與訓輔輔助   15,305,000\n",
       "11136  國立高級中等學校教學與訓輔輔助   18,932,000\n",
       "\n",
       "[11137 rows x 2 columns]"
      ]
     },
     "execution_count": 19,
     "metadata": {},
     "output_type": "execute_result"
    }
   ],
   "source": [
    "temp = df[['科目名稱',' 金額 ']]\n",
    "temp"
   ]
  },
  {
   "cell_type": "markdown",
   "id": "21f45c2c",
   "metadata": {},
   "source": [
    "根據補助單位將金額整合加總，且加上年份"
   ]
  },
  {
   "cell_type": "code",
   "execution_count": 20,
   "id": "c3ddbea2",
   "metadata": {
    "scrolled": false
   },
   "outputs": [
    {
     "data": {
      "text/html": [
       "<div>\n",
       "<style scoped>\n",
       "    .dataframe tbody tr th:only-of-type {\n",
       "        vertical-align: middle;\n",
       "    }\n",
       "\n",
       "    .dataframe tbody tr th {\n",
       "        vertical-align: top;\n",
       "    }\n",
       "\n",
       "    .dataframe thead th {\n",
       "        text-align: right;\n",
       "    }\n",
       "</style>\n",
       "<table border=\"1\" class=\"dataframe\">\n",
       "  <thead>\n",
       "    <tr style=\"text-align: right;\">\n",
       "      <th></th>\n",
       "      <th>科目名稱</th>\n",
       "      <th>金額</th>\n",
       "      <th>year</th>\n",
       "    </tr>\n",
       "  </thead>\n",
       "  <tbody>\n",
       "    <tr>\n",
       "      <th>0</th>\n",
       "      <td>國民及學前教育行政及督導</td>\n",
       "      <td>162,989,000446,707,00012,000,000550,00062,833,...</td>\n",
       "      <td>2013</td>\n",
       "    </tr>\n",
       "    <tr>\n",
       "      <th>1</th>\n",
       "      <td>國立高級中等學校教學與訓輔輔助</td>\n",
       "      <td>50,000,00031,340,00036,561,0001,800,0003,800,0...</td>\n",
       "      <td>2013</td>\n",
       "    </tr>\n",
       "  </tbody>\n",
       "</table>\n",
       "</div>"
      ],
      "text/plain": [
       "              科目名稱                                                金額   year\n",
       "0     國民及學前教育行政及督導  162,989,000446,707,00012,000,000550,00062,833,...  2013\n",
       "1  國立高級中等學校教學與訓輔輔助  50,000,00031,340,00036,561,0001,800,0003,800,0...  2013"
      ]
     },
     "execution_count": 20,
     "metadata": {},
     "output_type": "execute_result"
    }
   ],
   "source": [
    "Type = temp.groupby(['科目名稱'])[' 金額 '].sum().reset_index()\n",
    "Type['year'] = 2013\n",
    "Type"
   ]
  },
  {
   "cell_type": "code",
   "execution_count": null,
   "id": "b057d032",
   "metadata": {},
   "outputs": [],
   "source": [
    "重複之前的步驟處理2014的資料"
   ]
  },
  {
   "cell_type": "code",
   "execution_count": 21,
   "id": "d329a7e5",
   "metadata": {
    "scrolled": true
   },
   "outputs": [
    {
     "data": {
      "text/html": [
       "<div>\n",
       "<style scoped>\n",
       "    .dataframe tbody tr th:only-of-type {\n",
       "        vertical-align: middle;\n",
       "    }\n",
       "\n",
       "    .dataframe tbody tr th {\n",
       "        vertical-align: top;\n",
       "    }\n",
       "\n",
       "    .dataframe thead th {\n",
       "        text-align: right;\n",
       "    }\n",
       "</style>\n",
       "<table border=\"1\" class=\"dataframe\">\n",
       "  <thead>\n",
       "    <tr style=\"text-align: right;\">\n",
       "      <th></th>\n",
       "      <th>科目名稱</th>\n",
       "      <th>金額</th>\n",
       "      <th>year</th>\n",
       "    </tr>\n",
       "  </thead>\n",
       "  <tbody>\n",
       "    <tr>\n",
       "      <th>0</th>\n",
       "      <td>國民及學前教育行政及督導</td>\n",
       "      <td>8,920,00013,060,00011,620,00014,300,00022,219,...</td>\n",
       "      <td>2014</td>\n",
       "    </tr>\n",
       "    <tr>\n",
       "      <th>1</th>\n",
       "      <td>國立高級中等學校教學與訓輔輔助</td>\n",
       "      <td>7,000,0008,693,0008,800,0009,000,0009,433,0009...</td>\n",
       "      <td>2014</td>\n",
       "    </tr>\n",
       "  </tbody>\n",
       "</table>\n",
       "</div>"
      ],
      "text/plain": [
       "              科目名稱                                                金額   year\n",
       "0     國民及學前教育行政及督導  8,920,00013,060,00011,620,00014,300,00022,219,...  2014\n",
       "1  國立高級中等學校教學與訓輔輔助  7,000,0008,693,0008,800,0009,000,0009,433,0009...  2014"
      ]
     },
     "execution_count": 21,
     "metadata": {},
     "output_type": "execute_result"
    }
   ],
   "source": [
    "df2014 = pd.read_csv('教育部國民及學前教育署103年度補助明細表.csv')\n",
    "new = df2014[['科目名稱',' 金額 ']].groupby(['科目名稱'])[' 金額 '].sum().reset_index()\n",
    "new['year'] = 2014\n",
    "new"
   ]
  },
  {
   "cell_type": "markdown",
   "id": "8c3e532c",
   "metadata": {},
   "source": [
    "合併兩表"
   ]
  },
  {
   "cell_type": "code",
   "execution_count": 22,
   "id": "4511f5bb",
   "metadata": {},
   "outputs": [
    {
     "data": {
      "text/html": [
       "<div>\n",
       "<style scoped>\n",
       "    .dataframe tbody tr th:only-of-type {\n",
       "        vertical-align: middle;\n",
       "    }\n",
       "\n",
       "    .dataframe tbody tr th {\n",
       "        vertical-align: top;\n",
       "    }\n",
       "\n",
       "    .dataframe thead th {\n",
       "        text-align: right;\n",
       "    }\n",
       "</style>\n",
       "<table border=\"1\" class=\"dataframe\">\n",
       "  <thead>\n",
       "    <tr style=\"text-align: right;\">\n",
       "      <th></th>\n",
       "      <th>科目名稱</th>\n",
       "      <th>金額</th>\n",
       "      <th>year</th>\n",
       "    </tr>\n",
       "  </thead>\n",
       "  <tbody>\n",
       "    <tr>\n",
       "      <th>0</th>\n",
       "      <td>國民及學前教育行政及督導</td>\n",
       "      <td>162,989,000446,707,00012,000,000550,00062,833,...</td>\n",
       "      <td>2013</td>\n",
       "    </tr>\n",
       "    <tr>\n",
       "      <th>1</th>\n",
       "      <td>國立高級中等學校教學與訓輔輔助</td>\n",
       "      <td>50,000,00031,340,00036,561,0001,800,0003,800,0...</td>\n",
       "      <td>2013</td>\n",
       "    </tr>\n",
       "    <tr>\n",
       "      <th>0</th>\n",
       "      <td>國民及學前教育行政及督導</td>\n",
       "      <td>8,920,00013,060,00011,620,00014,300,00022,219,...</td>\n",
       "      <td>2014</td>\n",
       "    </tr>\n",
       "    <tr>\n",
       "      <th>1</th>\n",
       "      <td>國立高級中等學校教學與訓輔輔助</td>\n",
       "      <td>7,000,0008,693,0008,800,0009,000,0009,433,0009...</td>\n",
       "      <td>2014</td>\n",
       "    </tr>\n",
       "  </tbody>\n",
       "</table>\n",
       "</div>"
      ],
      "text/plain": [
       "              科目名稱                                                金額   year\n",
       "0     國民及學前教育行政及督導  162,989,000446,707,00012,000,000550,00062,833,...  2013\n",
       "1  國立高級中等學校教學與訓輔輔助  50,000,00031,340,00036,561,0001,800,0003,800,0...  2013\n",
       "0     國民及學前教育行政及督導  8,920,00013,060,00011,620,00014,300,00022,219,...  2014\n",
       "1  國立高級中等學校教學與訓輔輔助  7,000,0008,693,0008,800,0009,000,0009,433,0009...  2014"
      ]
     },
     "execution_count": 22,
     "metadata": {},
     "output_type": "execute_result"
    }
   ],
   "source": [
    "frames = [Type, new]\n",
    "result = pd.concat(frames)\n",
    "result"
   ]
  }
 ],
 "metadata": {
  "kernelspec": {
   "display_name": "Python 3 (ipykernel)",
   "language": "python",
   "name": "python3"
  },
  "language_info": {
   "codemirror_mode": {
    "name": "ipython",
    "version": 3
   },
   "file_extension": ".py",
   "mimetype": "text/x-python",
   "name": "python",
   "nbconvert_exporter": "python",
   "pygments_lexer": "ipython3",
   "version": "3.9.13"
  }
 },
 "nbformat": 4,
 "nbformat_minor": 5
}
